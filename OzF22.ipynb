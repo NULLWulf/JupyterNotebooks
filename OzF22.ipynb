{
 "cells": [
  {
   "cell_type": "code",
   "execution_count": 24,
   "outputs": [],
   "source": [
    "def USD(money):\n",
    "    x = \"${}\"\n",
    "    return x.format(money)\n",
    "\n",
    "total_bill = 4989.50\n",
    "g_n_g = 500.00\n",
    "health_ins_f = 1075.00\n",
    "oswfdb = 3057.50\n",
    "fall_sub22 = 1220.00\n",
    "fall_unsub22 = 5031.00\n",
    "# print(\"\"\"\n",
    "# Total Bill:\\t\\t\\t{}\n",
    "# Green and Gold:\\t\\t{}\n",
    "# Health Ins Fee:\\t\\t{}\"\"\".format(USD(total_bill),USD(g_n_g),USD(health_ins_f)))"
   ],
   "metadata": {
    "collapsed": false,
    "pycharm": {
     "name": "#%%\n"
    }
   }
  },
  {
   "cell_type": "code",
   "execution_count": 25,
   "outputs": [
    {
     "name": "stdout",
     "output_type": "stream",
     "text": [
      "\n",
      "Total Bill less H%GnG:\t\t4414.5\n",
      "Total Fina Aid:\t\t9808.5\n",
      "Refund:\t\t5394.0\n",
      "\n"
     ]
    }
   ],
   "source": [
    "bill_less_health_g_n_g = total_bill - health_ins_f + g_n_g\n",
    "tot_loans = fall_sub22 + fall_unsub22\n",
    "tot_fin_aid = fall_unsub22 + fall_sub22 + g_n_g + oswfdb\n",
    "print(\"\"\"\n",
    "Total Bill less H%GnG:\\t\\t{}\n",
    "Total Fina Aid:\\t\\t{}\n",
    "Refund:\\t\\t{}\n",
    "\"\"\".format(bill_less_health_g_n_g, tot_fin_aid, tot_fin_aid - bill_less_health_g_n_g))"
   ],
   "metadata": {
    "collapsed": false,
    "pycharm": {
     "name": "#%%\n"
    }
   }
  }
 ],
 "metadata": {
  "kernelspec": {
   "display_name": "Python 3",
   "language": "python",
   "name": "python3"
  },
  "language_info": {
   "codemirror_mode": {
    "name": "ipython",
    "version": 2
   },
   "file_extension": ".py",
   "mimetype": "text/x-python",
   "name": "python",
   "nbconvert_exporter": "python",
   "pygments_lexer": "ipython2",
   "version": "2.7.6"
  }
 },
 "nbformat": 4,
 "nbformat_minor": 0
}