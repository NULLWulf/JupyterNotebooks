{
 "cells": [
  {
   "cell_type": "code",
   "execution_count": 1,
   "outputs": [],
   "source": [
    "import numpy as np\n",
    "import pendulum as pend\n",
    "import pandas as pd\n",
    "\n",
    "def backhrs(hour):\n",
    "    if hour <= 40:\n",
    "        return hour, 0\n",
    "    else:\n",
    "        return 40, hour - 40\n",
    "\n",
    "def genSum(arg):\n",
    "    pend.week_starts_at(wday=1)\n",
    "\n",
    "    most_recent = pend.datetime(2022, 7, 18)\n",
    "    end_date = pend.datetime(2023, 1, 29)\n",
    "\n",
    "    timfr = pend.period(most_recent, end_date)\n",
    "\n",
    "    hourly, ot_rate, tax = 24.00, 1.5, .25\n",
    "\n",
    "    hours_spread = np.random.choice([37.5, 40.0, 42.5, 45.0, 47.5, 50.0], p=[.2, .3, .2, .1, .1, .1],\n",
    "                                    size=timfr.in_weeks() + 1)\n",
    "    work_weeks_dict = []\n",
    "\n",
    "    hrspridx = 0\n",
    "    for dt in timfr.range('weeks'):\n",
    "        wk_hours = backhrs(hours_spread[hrspridx])\n",
    "        reg = wk_hours[0] * hourly\n",
    "        ot = wk_hours[1] * hourly * ot_rate\n",
    "\n",
    "        this_week = {\n",
    "            \"Week\": 1 + hrspridx,\n",
    "            \"Wk Beg\": dt.format('MM-DD-YYYY'),\n",
    "            \"Wk End\": dt.add(days=6).format('MM-DD-YYYY'),\n",
    "            \"Reg Hrs\": wk_hours[0],\n",
    "            \"OT Hrs\": wk_hours[1],\n",
    "            \"Tot Hrs\": hours_spread[hrspridx],\n",
    "            \"Reg Pay\": reg,\n",
    "            \"OT Pay\": ot,\n",
    "            \"Taxes\": tax * (ot + reg),\n",
    "            \"Gross\": ot + reg,\n",
    "            \"Net\": (ot + reg) - ( tax * (ot + reg ) )\n",
    "        }\n",
    "        work_weeks_dict.append(this_week)\n",
    "        hrspridx += 1\n",
    "\n",
    "    df = pd.DataFrame(work_weeks_dict)\n",
    "\n",
    "    wk1_idx = 0\n",
    "    wk2_idx = 1\n",
    "\n",
    "    pay_periods_dict = []\n",
    "\n",
    "    while wk1_idx < len(work_weeks_dict):\n",
    "\n",
    "        wk1 = work_weeks_dict[wk1_idx]\n",
    "        wk2 = work_weeks_dict[wk2_idx]\n",
    "\n",
    "        this_pay_period = {\n",
    "            \"Pay Period\": pay_periods_dict.__len__() + 1,\n",
    "            \"Wk Beg\": wk1.get(\"Wk Beg\"),\n",
    "            \"Wk End\": wk2.get(\"Wk End\"),\n",
    "            \"Reg Hrs\": wk1.get(\"Reg Hrs\") + wk2.get(\"Reg Hrs\"),\n",
    "            \"OT Hrs\": wk1.get(\"OT Hrs\") + wk2.get(\"OT Hrs\"),\n",
    "            \"Tot Hrs\": wk1.get(\"Tot Hrs\") + wk2.get(\"Tot Hrs\"),\n",
    "            \"Reg Pay\": wk1.get(\"Reg Pay\") + wk2.get(\"Reg Pay\"),\n",
    "            \"OT Pay\": wk1.get(\"OT Pay\") + wk2.get(\"OT Pay\"),\n",
    "            \"Taxes\": wk1.get(\"Taxes\") + wk2.get(\"Taxes\"),\n",
    "            \"Gross\": wk1.get(\"Gross\") + wk2.get(\"Gross\"),\n",
    "            \"Net\": wk1.get(\"Net\") + wk2.get(\"Net\"),\n",
    "        }\n",
    "\n",
    "        pay_periods_dict.append(this_pay_period)\n",
    "        wk1_idx += 2\n",
    "        wk2_idx += 2\n",
    "\n",
    "    if arg == \"Net\":\n",
    "        return pd.DataFrame(pay_periods_dict)['Net'].sum()\n",
    "    else:\n",
    "        return pd.DataFrame(pay_periods_dict)\n"
   ],
   "metadata": {
    "collapsed": false,
    "pycharm": {
     "name": "#%%\n"
    }
   }
  },
  {
   "cell_type": "code",
   "execution_count": 2,
   "outputs": [],
   "source": [
    "# elem = []\n",
    "# for a in range(0, 100):\n",
    "#     sum = genSum(arg=\"Net\")\n",
    "#     print(sum)\n",
    "#     elem.append(sum)\n",
    "#\n",
    "# pd.DataFrame(elem).mean()"
   ],
   "metadata": {
    "collapsed": false,
    "pycharm": {
     "name": "#%%\n"
    }
   }
  },
  {
   "cell_type": "markdown",
   "source": [],
   "metadata": {
    "collapsed": false,
    "pycharm": {
     "name": "#%% md\n"
    }
   }
  },
  {
   "cell_type": "code",
   "execution_count": 3,
   "outputs": [],
   "source": [
    "def get_pay_month(active_date):\n",
    "    date = pend.parse(active_date,strict=False)\n",
    "    pay_date = date.add(days=3)\n",
    "    print(pay_date.format('MM-DD-YYYY'))\n",
    "    print(pay_date.month)\n",
    "    return pay_date.format(\"MMMM\")"
   ],
   "metadata": {
    "collapsed": false,
    "pycharm": {
     "name": "#%%\n"
    }
   }
  },
  {
   "cell_type": "code",
   "execution_count": 4,
   "outputs": [
    {
     "name": "stdout",
     "output_type": "stream",
     "text": [
      "08-03-2022\n",
      "8\n",
      "08-17-2022\n",
      "8\n",
      "08-31-2022\n",
      "8\n",
      "09-14-2022\n",
      "9\n",
      "09-28-2022\n",
      "9\n",
      "10-12-2022\n",
      "10\n",
      "10-26-2022\n",
      "10\n",
      "11-09-2022\n",
      "11\n",
      "11-23-2022\n",
      "11\n",
      "12-07-2022\n",
      "12\n",
      "12-21-2022\n",
      "12\n",
      "01-04-2023\n",
      "1\n",
      "01-18-2023\n",
      "1\n",
      "02-01-2023\n",
      "2\n"
     ]
    },
    {
     "data": {
      "text/plain": "    Pay Period      Wk Beg      Wk End  Reg Hrs  OT Hrs  Tot Hrs  Reg Pay  \\\n0            1  07-18-2022  07-31-2022     80.0     5.0     85.0   1920.0   \n1            2  08-01-2022  08-14-2022     80.0    12.5     92.5   1920.0   \n2            3  08-15-2022  08-28-2022     80.0     2.5     82.5   1920.0   \n3            4  08-29-2022  09-11-2022     80.0    10.0     90.0   1920.0   \n4            5  09-12-2022  09-25-2022     77.5     0.0     77.5   1860.0   \n5            6  09-26-2022  10-09-2022     80.0     2.5     82.5   1920.0   \n6            7  10-10-2022  10-23-2022     80.0    17.5     97.5   1920.0   \n7            8  10-24-2022  11-06-2022     77.5     0.0     77.5   1860.0   \n8            9  11-07-2022  11-20-2022     80.0    12.5     92.5   1920.0   \n9           10  11-21-2022  12-04-2022     77.5     0.0     77.5   1860.0   \n10          11  12-05-2022  12-18-2022     77.5     2.5     80.0   1860.0   \n11          12  12-19-2022  01-01-2023     80.0    10.0     90.0   1920.0   \n12          13  01-02-2023  01-15-2023     80.0     7.5     87.5   1920.0   \n13          14  01-16-2023  01-29-2023     77.5     0.0     77.5   1860.0   \n\n    OT Pay  Taxes   Gross     Net      Month  \n0    180.0  525.0  2100.0  1575.0     August  \n1    450.0  592.5  2370.0  1777.5     August  \n2     90.0  502.5  2010.0  1507.5     August  \n3    360.0  570.0  2280.0  1710.0  September  \n4      0.0  465.0  1860.0  1395.0  September  \n5     90.0  502.5  2010.0  1507.5    October  \n6    630.0  637.5  2550.0  1912.5    October  \n7      0.0  465.0  1860.0  1395.0   November  \n8    450.0  592.5  2370.0  1777.5   November  \n9      0.0  465.0  1860.0  1395.0   December  \n10    90.0  487.5  1950.0  1462.5   December  \n11   360.0  570.0  2280.0  1710.0    January  \n12   270.0  547.5  2190.0  1642.5    January  \n13     0.0  465.0  1860.0  1395.0   February  ",
      "text/html": "<div>\n<style scoped>\n    .dataframe tbody tr th:only-of-type {\n        vertical-align: middle;\n    }\n\n    .dataframe tbody tr th {\n        vertical-align: top;\n    }\n\n    .dataframe thead th {\n        text-align: right;\n    }\n</style>\n<table border=\"1\" class=\"dataframe\">\n  <thead>\n    <tr style=\"text-align: right;\">\n      <th></th>\n      <th>Pay Period</th>\n      <th>Wk Beg</th>\n      <th>Wk End</th>\n      <th>Reg Hrs</th>\n      <th>OT Hrs</th>\n      <th>Tot Hrs</th>\n      <th>Reg Pay</th>\n      <th>OT Pay</th>\n      <th>Taxes</th>\n      <th>Gross</th>\n      <th>Net</th>\n      <th>Month</th>\n    </tr>\n  </thead>\n  <tbody>\n    <tr>\n      <th>0</th>\n      <td>1</td>\n      <td>07-18-2022</td>\n      <td>07-31-2022</td>\n      <td>80.0</td>\n      <td>5.0</td>\n      <td>85.0</td>\n      <td>1920.0</td>\n      <td>180.0</td>\n      <td>525.0</td>\n      <td>2100.0</td>\n      <td>1575.0</td>\n      <td>August</td>\n    </tr>\n    <tr>\n      <th>1</th>\n      <td>2</td>\n      <td>08-01-2022</td>\n      <td>08-14-2022</td>\n      <td>80.0</td>\n      <td>12.5</td>\n      <td>92.5</td>\n      <td>1920.0</td>\n      <td>450.0</td>\n      <td>592.5</td>\n      <td>2370.0</td>\n      <td>1777.5</td>\n      <td>August</td>\n    </tr>\n    <tr>\n      <th>2</th>\n      <td>3</td>\n      <td>08-15-2022</td>\n      <td>08-28-2022</td>\n      <td>80.0</td>\n      <td>2.5</td>\n      <td>82.5</td>\n      <td>1920.0</td>\n      <td>90.0</td>\n      <td>502.5</td>\n      <td>2010.0</td>\n      <td>1507.5</td>\n      <td>August</td>\n    </tr>\n    <tr>\n      <th>3</th>\n      <td>4</td>\n      <td>08-29-2022</td>\n      <td>09-11-2022</td>\n      <td>80.0</td>\n      <td>10.0</td>\n      <td>90.0</td>\n      <td>1920.0</td>\n      <td>360.0</td>\n      <td>570.0</td>\n      <td>2280.0</td>\n      <td>1710.0</td>\n      <td>September</td>\n    </tr>\n    <tr>\n      <th>4</th>\n      <td>5</td>\n      <td>09-12-2022</td>\n      <td>09-25-2022</td>\n      <td>77.5</td>\n      <td>0.0</td>\n      <td>77.5</td>\n      <td>1860.0</td>\n      <td>0.0</td>\n      <td>465.0</td>\n      <td>1860.0</td>\n      <td>1395.0</td>\n      <td>September</td>\n    </tr>\n    <tr>\n      <th>5</th>\n      <td>6</td>\n      <td>09-26-2022</td>\n      <td>10-09-2022</td>\n      <td>80.0</td>\n      <td>2.5</td>\n      <td>82.5</td>\n      <td>1920.0</td>\n      <td>90.0</td>\n      <td>502.5</td>\n      <td>2010.0</td>\n      <td>1507.5</td>\n      <td>October</td>\n    </tr>\n    <tr>\n      <th>6</th>\n      <td>7</td>\n      <td>10-10-2022</td>\n      <td>10-23-2022</td>\n      <td>80.0</td>\n      <td>17.5</td>\n      <td>97.5</td>\n      <td>1920.0</td>\n      <td>630.0</td>\n      <td>637.5</td>\n      <td>2550.0</td>\n      <td>1912.5</td>\n      <td>October</td>\n    </tr>\n    <tr>\n      <th>7</th>\n      <td>8</td>\n      <td>10-24-2022</td>\n      <td>11-06-2022</td>\n      <td>77.5</td>\n      <td>0.0</td>\n      <td>77.5</td>\n      <td>1860.0</td>\n      <td>0.0</td>\n      <td>465.0</td>\n      <td>1860.0</td>\n      <td>1395.0</td>\n      <td>November</td>\n    </tr>\n    <tr>\n      <th>8</th>\n      <td>9</td>\n      <td>11-07-2022</td>\n      <td>11-20-2022</td>\n      <td>80.0</td>\n      <td>12.5</td>\n      <td>92.5</td>\n      <td>1920.0</td>\n      <td>450.0</td>\n      <td>592.5</td>\n      <td>2370.0</td>\n      <td>1777.5</td>\n      <td>November</td>\n    </tr>\n    <tr>\n      <th>9</th>\n      <td>10</td>\n      <td>11-21-2022</td>\n      <td>12-04-2022</td>\n      <td>77.5</td>\n      <td>0.0</td>\n      <td>77.5</td>\n      <td>1860.0</td>\n      <td>0.0</td>\n      <td>465.0</td>\n      <td>1860.0</td>\n      <td>1395.0</td>\n      <td>December</td>\n    </tr>\n    <tr>\n      <th>10</th>\n      <td>11</td>\n      <td>12-05-2022</td>\n      <td>12-18-2022</td>\n      <td>77.5</td>\n      <td>2.5</td>\n      <td>80.0</td>\n      <td>1860.0</td>\n      <td>90.0</td>\n      <td>487.5</td>\n      <td>1950.0</td>\n      <td>1462.5</td>\n      <td>December</td>\n    </tr>\n    <tr>\n      <th>11</th>\n      <td>12</td>\n      <td>12-19-2022</td>\n      <td>01-01-2023</td>\n      <td>80.0</td>\n      <td>10.0</td>\n      <td>90.0</td>\n      <td>1920.0</td>\n      <td>360.0</td>\n      <td>570.0</td>\n      <td>2280.0</td>\n      <td>1710.0</td>\n      <td>January</td>\n    </tr>\n    <tr>\n      <th>12</th>\n      <td>13</td>\n      <td>01-02-2023</td>\n      <td>01-15-2023</td>\n      <td>80.0</td>\n      <td>7.5</td>\n      <td>87.5</td>\n      <td>1920.0</td>\n      <td>270.0</td>\n      <td>547.5</td>\n      <td>2190.0</td>\n      <td>1642.5</td>\n      <td>January</td>\n    </tr>\n    <tr>\n      <th>13</th>\n      <td>14</td>\n      <td>01-16-2023</td>\n      <td>01-29-2023</td>\n      <td>77.5</td>\n      <td>0.0</td>\n      <td>77.5</td>\n      <td>1860.0</td>\n      <td>0.0</td>\n      <td>465.0</td>\n      <td>1860.0</td>\n      <td>1395.0</td>\n      <td>February</td>\n    </tr>\n  </tbody>\n</table>\n</div>"
     },
     "execution_count": 4,
     "metadata": {},
     "output_type": "execute_result"
    }
   ],
   "source": [
    "df = genSum(arg=\"\")\n",
    "df['Month'] = df.apply(lambda row : get_pay_month(row['Wk End']), axis=1)\n",
    "df"
   ],
   "metadata": {
    "collapsed": false,
    "pycharm": {
     "name": "#%%\n"
    }
   }
  },
  {
   "cell_type": "code",
   "execution_count": 7,
   "outputs": [
    {
     "data": {
      "text/plain": "Month\nAugust       4860.0\nDecember     2857.5\nFebruary     1395.0\nJanuary      3352.5\nNovember     3172.5\nOctober      3420.0\nSeptember    3105.0\nName: Net, dtype: float64"
     },
     "execution_count": 7,
     "metadata": {},
     "output_type": "execute_result"
    }
   ],
   "source": [
    "df.groupby(['Month'])['Net'].sum()"
   ],
   "metadata": {
    "collapsed": false,
    "pycharm": {
     "name": "#%%\n"
    }
   }
  }
 ],
 "metadata": {
  "kernelspec": {
   "display_name": "Python 3",
   "language": "python",
   "name": "python3"
  },
  "language_info": {
   "codemirror_mode": {
    "name": "ipython",
    "version": 2
   },
   "file_extension": ".py",
   "mimetype": "text/x-python",
   "name": "python",
   "nbconvert_exporter": "python",
   "pygments_lexer": "ipython2",
   "version": "2.7.6"
  }
 },
 "nbformat": 4,
 "nbformat_minor": 0
}